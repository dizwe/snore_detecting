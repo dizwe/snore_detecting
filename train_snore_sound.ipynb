{
 "cells": [
  {
   "cell_type": "code",
   "execution_count": 1,
   "metadata": {},
   "outputs": [],
   "source": [
    "import tensorflow as tf"
   ]
  },
  {
   "cell_type": "code",
   "execution_count": 2,
   "metadata": {},
   "outputs": [],
   "source": [
    "import random"
   ]
  },
  {
   "cell_type": "code",
   "execution_count": 3,
   "metadata": {},
   "outputs": [],
   "source": [
    "tf.set_random_seed(777)"
   ]
  },
  {
   "cell_type": "code",
   "execution_count": 4,
   "metadata": {},
   "outputs": [],
   "source": [
    "import numpy as np"
   ]
  },
  {
   "cell_type": "code",
   "execution_count": 5,
   "metadata": {},
   "outputs": [],
   "source": [
    "import sklearn.model_selection as sk\n",
    "import pickle"
   ]
  },
  {
   "cell_type": "markdown",
   "metadata": {},
   "source": [
    "## LOAD DATA"
   ]
  },
  {
   "cell_type": "code",
   "execution_count": 6,
   "metadata": {},
   "outputs": [],
   "source": [
    "with open('noise_sounds_log.pickle','rb') as file:\n",
    "    noise_log = pickle.load(file)\n",
    "\n",
    "with open('snore_sounds_log.pickle','rb') as file:\n",
    "    snore_log = pickle.load(file)"
   ]
  },
  {
   "cell_type": "code",
   "execution_count": 7,
   "metadata": {},
   "outputs": [],
   "source": [
    "features = np.concatenate((noise_log, snore_log), axis=0)\n",
    "#개수만큼 만들기\n",
    "labels = np.array([[1,0] for _ in range(len(snore_log))]+[[0,1] for _ in range(len(noise_log))])"
   ]
  },
  {
   "cell_type": "code",
   "execution_count": 8,
   "metadata": {},
   "outputs": [],
   "source": [
    "tr_features, ts_features, tr_labels, ts_labels = sk.train_test_split(features,labels,test_size=0.20, random_state = 77)"
   ]
  },
  {
   "cell_type": "markdown",
   "metadata": {},
   "source": [
    "## DRAW GRAPH"
   ]
  },
  {
   "cell_type": "code",
   "execution_count": 9,
   "metadata": {},
   "outputs": [],
   "source": [
    "learning_rate = 0.002 # 학습율(수치에 따라 기울기 내려가는 정도 조절 가능)"
   ]
  },
  {
   "cell_type": "code",
   "execution_count": 10,
   "metadata": {},
   "outputs": [],
   "source": [
    "training_epochs = 30"
   ]
  },
  {
   "cell_type": "code",
   "execution_count": 11,
   "metadata": {},
   "outputs": [],
   "source": [
    "batch_size = 100"
   ]
  },
  {
   "cell_type": "code",
   "execution_count": null,
   "metadata": {},
   "outputs": [],
   "source": []
  },
  {
   "cell_type": "code",
   "execution_count": 12,
   "metadata": {},
   "outputs": [],
   "source": [
    "# dropout (keep_prob) rate  0.7~0.5 on training, but should be 1 for testing\n",
    "keep_prob = tf.placeholder(tf.float32)"
   ]
  },
  {
   "cell_type": "code",
   "execution_count": 13,
   "metadata": {},
   "outputs": [],
   "source": [
    "# input place holders\n",
    "X_img = tf.placeholder(tf.float32, [None, 1025, 44, 1])"
   ]
  },
  {
   "cell_type": "code",
   "execution_count": 14,
   "metadata": {},
   "outputs": [],
   "source": [
    "Y = tf.placeholder(tf.float32, [None, 2])"
   ]
  },
  {
   "cell_type": "code",
   "execution_count": 15,
   "metadata": {},
   "outputs": [],
   "source": [
    "W1 = tf.Variable(tf.random_normal([2, 2, 1, 80], stddev=0.01),name='W1')"
   ]
  },
  {
   "cell_type": "code",
   "execution_count": 16,
   "metadata": {},
   "outputs": [],
   "source": [
    "L1 = tf.nn.conv2d(X_img, W1, strides=[1, 2, 2, 1], padding='SAME')"
   ]
  },
  {
   "cell_type": "code",
   "execution_count": 17,
   "metadata": {},
   "outputs": [],
   "source": [
    "L1 = tf.nn.relu(L1)"
   ]
  },
  {
   "cell_type": "code",
   "execution_count": 18,
   "metadata": {},
   "outputs": [],
   "source": [
    "# 여기서는 input tensor순서대로(1개 h,w,ch)\n",
    "L1 = tf.nn.max_pool(L1, ksize=[1, 3, 2, 1], strides=[1, 1, 1, 1], padding='SAME')"
   ]
  },
  {
   "cell_type": "code",
   "execution_count": null,
   "metadata": {},
   "outputs": [],
   "source": []
  },
  {
   "cell_type": "code",
   "execution_count": 19,
   "metadata": {},
   "outputs": [],
   "source": [
    "# L2 ImgIn shape=(?, 60, 14, 80)\n",
    "W2 = tf.Variable(tf.random_normal([2, 3, 80, 120], stddev=0.01),name=\"W2\")"
   ]
  },
  {
   "cell_type": "code",
   "execution_count": 20,
   "metadata": {},
   "outputs": [],
   "source": [
    "L2 = tf.nn.conv2d(L1, W2, strides=[1, 2, 2, 1], padding='SAME')"
   ]
  },
  {
   "cell_type": "code",
   "execution_count": 21,
   "metadata": {},
   "outputs": [],
   "source": [
    "L2 = tf.nn.relu(L2)"
   ]
  },
  {
   "cell_type": "code",
   "execution_count": 22,
   "metadata": {},
   "outputs": [],
   "source": [
    "L2 = tf.nn.max_pool(L2, ksize=[1, 2, 2, 1], strides=[1, 1, 1, 1], padding='SAME')"
   ]
  },
  {
   "cell_type": "code",
   "execution_count": 23,
   "metadata": {},
   "outputs": [],
   "source": [
    "L2_flat = tf.reshape(L2, [-1, 257*11*120]) # 스트라이드 주변 1행 1열 추가하여 1번 데이터 학습을 여러번 학습하기 위해서"
   ]
  },
  {
   "cell_type": "code",
   "execution_count": null,
   "metadata": {},
   "outputs": [],
   "source": []
  },
  {
   "cell_type": "code",
   "execution_count": 24,
   "metadata": {},
   "outputs": [
    {
     "name": "stderr",
     "output_type": "stream",
     "text": [
      "/anaconda3/lib/python3.5/site-packages/h5py/__init__.py:36: FutureWarning: Conversion of the second argument of issubdtype from `float` to `np.floating` is deprecated. In future, it will be treated as `np.float64 == np.dtype(float).type`.\n",
      "  from ._conv import register_converters as _register_converters\n"
     ]
    }
   ],
   "source": [
    "# L4 FC 4x4x128 inputs -> 625 outputs\n",
    "W4 = tf.get_variable(\"W4\", shape=[257*11*120, 1000], initializer=tf.contrib.layers.xavier_initializer())"
   ]
  },
  {
   "cell_type": "code",
   "execution_count": 25,
   "metadata": {},
   "outputs": [],
   "source": [
    "b4 = tf.Variable(tf.random_normal([1000]),name=\"b4\")"
   ]
  },
  {
   "cell_type": "code",
   "execution_count": 26,
   "metadata": {},
   "outputs": [],
   "source": [
    "L4 = tf.nn.relu(tf.matmul(L2_flat, W4) + b4)"
   ]
  },
  {
   "cell_type": "code",
   "execution_count": 27,
   "metadata": {},
   "outputs": [],
   "source": [
    "L4 = tf.nn.dropout(L4, keep_prob=keep_prob)"
   ]
  },
  {
   "cell_type": "code",
   "execution_count": null,
   "metadata": {},
   "outputs": [],
   "source": []
  },
  {
   "cell_type": "code",
   "execution_count": 28,
   "metadata": {},
   "outputs": [],
   "source": [
    "# L4 FC 4x4x128 inputs -> 625 outputs\n",
    "W5 = tf.get_variable(\"W5\", shape=[1000, 80], initializer=tf.contrib.layers.xavier_initializer())"
   ]
  },
  {
   "cell_type": "code",
   "execution_count": 29,
   "metadata": {},
   "outputs": [],
   "source": [
    "b5 = tf.Variable(tf.random_normal([80]),name=\"b5\")"
   ]
  },
  {
   "cell_type": "code",
   "execution_count": 30,
   "metadata": {},
   "outputs": [],
   "source": [
    "L5 = tf.nn.relu(tf.matmul(L4, W5) + b5)"
   ]
  },
  {
   "cell_type": "code",
   "execution_count": 31,
   "metadata": {},
   "outputs": [],
   "source": [
    "L5 = tf.nn.dropout(L5, keep_prob=keep_prob)"
   ]
  },
  {
   "cell_type": "code",
   "execution_count": null,
   "metadata": {},
   "outputs": [],
   "source": []
  },
  {
   "cell_type": "code",
   "execution_count": 32,
   "metadata": {},
   "outputs": [],
   "source": [
    "# L5 Final FC 625 inputs -> 10 outputs\n",
    "W6 = tf.get_variable(\"W6\", shape=[80, 2], initializer=tf.contrib.layers.xavier_initializer())"
   ]
  },
  {
   "cell_type": "code",
   "execution_count": 33,
   "metadata": {},
   "outputs": [],
   "source": [
    "b6 = tf.Variable(tf.random_normal([2]),name=\"b6\")"
   ]
  },
  {
   "cell_type": "code",
   "execution_count": 34,
   "metadata": {},
   "outputs": [],
   "source": [
    "logits = tf.matmul(L5, W6) + b6"
   ]
  },
  {
   "cell_type": "code",
   "execution_count": 35,
   "metadata": {},
   "outputs": [],
   "source": [
    "# define cost/loss & optimizer\n",
    "cost = tf.reduce_mean(tf.nn.softmax_cross_entropy_with_logits(logits=logits, labels=Y))"
   ]
  },
  {
   "cell_type": "code",
   "execution_count": 36,
   "metadata": {},
   "outputs": [],
   "source": [
    "optimizer = tf.train.AdamOptimizer(learning_rate=learning_rate).minimize(cost)"
   ]
  },
  {
   "cell_type": "code",
   "execution_count": null,
   "metadata": {},
   "outputs": [],
   "source": []
  },
  {
   "cell_type": "markdown",
   "metadata": {},
   "source": [
    "## SESSION"
   ]
  },
  {
   "cell_type": "code",
   "execution_count": 37,
   "metadata": {},
   "outputs": [],
   "source": [
    "# initialize\n",
    "sess = tf.Session()\n",
    "saver = tf.train.Saver()\n"
   ]
  },
  {
   "cell_type": "code",
   "execution_count": 38,
   "metadata": {},
   "outputs": [],
   "source": [
    "sess.run(tf.global_variables_initializer())"
   ]
  },
  {
   "cell_type": "code",
   "execution_count": 39,
   "metadata": {},
   "outputs": [
    {
     "name": "stdout",
     "output_type": "stream",
     "text": [
      "INFO:tensorflow:Restoring parameters from log_short-8\n"
     ]
    }
   ],
   "source": [
    "saver.restore(sess,'log_short-8')"
   ]
  },
  {
   "cell_type": "code",
   "execution_count": 40,
   "metadata": {},
   "outputs": [],
   "source": [
    "# 계속 random한 값 리턴될수 있도록 하기(으 극혐)\n",
    "def next_batch(num, data, labels):\n",
    "    start =0\n",
    "    randomly_selected_batch_idx = list(range(len(data)))\n",
    "    random.shuffle(randomly_selected_batch_idx)\n",
    "    \n",
    "    for i in range(int(len(data)/num)):\n",
    "        batch_idx = randomly_selected_batch_idx[start : start + num]\n",
    "#         print(labels[batch_idx])s\n",
    "        yield data[batch_idx],labels[batch_idx]\n",
    "        start = start + num"
   ]
  },
  {
   "cell_type": "code",
   "execution_count": 41,
   "metadata": {},
   "outputs": [],
   "source": [
    "import json\n",
    "hi = {}"
   ]
  },
  {
   "cell_type": "code",
   "execution_count": 42,
   "metadata": {},
   "outputs": [],
   "source": [
    "correct_prediction = tf.equal(tf.argmax(logits, 1), tf.argmax(Y, 1))\n",
    "accuracy = tf.reduce_mean(tf.cast(correct_prediction, tf.float32))"
   ]
  },
  {
   "cell_type": "code",
   "execution_count": 43,
   "metadata": {},
   "outputs": [],
   "source": [
    "selected_list = random.sample(list(range(len(ts_features))),500)"
   ]
  },
  {
   "cell_type": "code",
   "execution_count": 44,
   "metadata": {},
   "outputs": [],
   "source": [
    "a = ts_features[selected_list]\n",
    "b = ts_labels[selected_list]"
   ]
  },
  {
   "cell_type": "code",
   "execution_count": null,
   "metadata": {},
   "outputs": [],
   "source": []
  },
  {
   "cell_type": "code",
   "execution_count": 45,
   "metadata": {
    "scrolled": false
   },
   "outputs": [
    {
     "name": "stdout",
     "output_type": "stream",
     "text": [
      "Epoch: 0001 cost = 2.939762530\n",
      "--accuracy 0001 cost = 0.895377100\n",
      "Epoch: 0002 cost = 0.256043833\n",
      "Epoch: 0003 cost = 0.250395121\n",
      "Epoch: 0004 cost = 0.154265839\n",
      "Epoch: 0005 cost = 0.131444436\n",
      "Epoch: 0006 cost = 0.108972554\n",
      "--accuracy 0006 cost = 0.964233577\n",
      "Epoch: 0007 cost = 0.135398123\n",
      "Epoch: 0008 cost = 0.088530318\n",
      "Epoch: 0009 cost = 0.075170815\n",
      "Epoch: 0010 cost = 0.073850613\n",
      "Epoch: 0011 cost = 0.061645676\n",
      "--accuracy 0011 cost = 0.967999995\n",
      "Epoch: 0012 cost = 0.057414604\n",
      "Epoch: 0013 cost = 0.054285760\n",
      "Epoch: 0014 cost = 0.039042859\n",
      "Epoch: 0015 cost = 0.089379947\n",
      "Epoch: 0016 cost = 0.044905669\n",
      "--accuracy 0016 cost = 0.966000021\n",
      "Epoch: 0017 cost = 0.043235633\n",
      "Epoch: 0018 cost = 0.048559445\n",
      "Epoch: 0019 cost = 0.043084983\n",
      "Epoch: 0020 cost = 0.035942665\n",
      "Epoch: 0021 cost = 0.028541338\n",
      "--accuracy 0021 cost = 0.967999995\n",
      "Epoch: 0022 cost = 0.030718353\n",
      "Epoch: 0023 cost = 0.027701679\n",
      "Epoch: 0024 cost = 0.030910588\n",
      "Epoch: 0025 cost = 0.031172793\n",
      "Epoch: 0026 cost = 0.043373856\n",
      "--accuracy 0026 cost = 0.966000021\n",
      "Epoch: 0027 cost = 0.027200878\n",
      "Epoch: 0028 cost = 0.021519631\n",
      "Epoch: 0029 cost = 0.038710544\n",
      "Epoch: 0030 cost = 0.080487279\n",
      "Learning Finished!\n"
     ]
    }
   ],
   "source": [
    "print('Epoch: 0001 cost = 2.939762530\\n--accuracy 0001 cost = 0.895377100\\nEpoch: 0002 cost = 0.256043833\\nEpoch: 0003 cost = 0.250395121\\nEpoch: 0004 cost = 0.154265839\\nEpoch: 0005 cost = 0.131444436\\nEpoch: 0006 cost = 0.108972554\\n--accuracy 0006 cost = 0.964233577\\nEpoch: 0007 cost = 0.135398123')\n",
    "for epoch in range(7, training_epochs):\n",
    "    avg_cost = 0\n",
    "    total_batch = int(tr_features.shape[0] / batch_size)\n",
    "\n",
    "    for batch_xs, batch_ys in next_batch(batch_size, tr_features, tr_labels):\n",
    "        feed_dict = {X_img: batch_xs, Y: batch_ys, keep_prob: 0.5}\n",
    "        c, _ = sess.run([cost, optimizer], feed_dict=feed_dict)\n",
    "        avg_cost += c / total_batch\n",
    "        \n",
    "    print('Epoch:', '%04d' % (epoch + 1), 'cost =', '{:.9f}'.format(avg_cost))\n",
    "    if epoch%5==0:\n",
    "        accuracy_num = sess.run(accuracy, feed_dict={X_img:a, Y:b, keep_prob:1})\n",
    "        print('--accuracy', '%04d' % (epoch + 1), 'cost =', '{:.9f}'.format(accuracy_num))\n",
    "        hi.update({epoch:avg_cost, 'accuracy':float(accuracy_num)})\n",
    "    else:\n",
    "        hi.update({epoch:avg_cost})\n",
    "        \n",
    "    with open('data.txt', 'w') as outfile:\n",
    "        json.dump(hi, outfile)\n",
    "        \n",
    "    if (epoch+1)%10==0:\n",
    "        saver.save(sess, \"./log_short\", global_step=epoch+1)\n",
    "    \n",
    "print('Learning Finished!')"
   ]
  },
  {
   "cell_type": "code",
   "execution_count": 46,
   "metadata": {},
   "outputs": [
    {
     "data": {
      "text/plain": [
       "'./log_short-30'"
      ]
     },
     "execution_count": 46,
     "metadata": {},
     "output_type": "execute_result"
    }
   ],
   "source": [
    "# SAVE LAST ONE\n",
    "saver.save(sess, \"./log_short\", global_step=epoch+1)"
   ]
  },
  {
   "cell_type": "markdown",
   "metadata": {},
   "source": [
    "## 정확도"
   ]
  },
  {
   "cell_type": "code",
   "execution_count": 48,
   "metadata": {},
   "outputs": [
    {
     "name": "stdout",
     "output_type": "stream",
     "text": [
      "Accuracy: 0.96350366\n"
     ]
    }
   ],
   "source": [
    "print('Accuracy:', sess.run(accuracy, feed_dict={\n",
    "      X_img: ts_features, Y: ts_labels, keep_prob: 1}))"
   ]
  },
  {
   "cell_type": "code",
   "execution_count": null,
   "metadata": {},
   "outputs": [],
   "source": []
  }
 ],
 "metadata": {
  "kernelspec": {
   "display_name": "Python 3",
   "language": "python",
   "name": "python3"
  },
  "language_info": {
   "codemirror_mode": {
    "name": "ipython",
    "version": 3
   },
   "file_extension": ".py",
   "mimetype": "text/x-python",
   "name": "python",
   "nbconvert_exporter": "python",
   "pygments_lexer": "ipython3",
   "version": "3.5.0"
  }
 },
 "nbformat": 4,
 "nbformat_minor": 2
}
